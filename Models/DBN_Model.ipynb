{
  "cells": [
    {
      "cell_type": "code",
      "execution_count": 3,
      "metadata": {},
      "outputs": [
        {
          "name": "stdout",
          "output_type": "stream",
          "text": [
            "Requirement already satisfied: tensorflow in /Users/lukarecine/.pyenv/versions/3.12.3/lib/python3.12/site-packages (2.16.1)\n",
            "Requirement already satisfied: numpy in /Users/lukarecine/.pyenv/versions/3.12.3/lib/python3.12/site-packages (1.26.4)\n",
            "Collecting tqdm\n",
            "  Downloading tqdm-4.66.5-py3-none-any.whl.metadata (57 kB)\n",
            "\u001b[2K     \u001b[90m━━━━━━━━━━━━━━━━━━━━━━━━━━━━━━━━━━━━━━━\u001b[0m \u001b[32m57.6/57.6 kB\u001b[0m \u001b[31m847.3 kB/s\u001b[0m eta \u001b[36m0:00:00\u001b[0m \u001b[36m0:00:01\u001b[0m\n",
            "\u001b[?25hRequirement already satisfied: pandas in /Users/lukarecine/.pyenv/versions/3.12.3/lib/python3.12/site-packages (2.2.2)\n",
            "Collecting scikit-learn\n",
            "  Using cached scikit_learn-1.5.1-cp312-cp312-macosx_10_9_x86_64.whl.metadata (12 kB)\n",
            "Requirement already satisfied: matplotlib in /Users/lukarecine/.pyenv/versions/3.12.3/lib/python3.12/site-packages (3.9.0)\n",
            "Requirement already satisfied: absl-py>=1.0.0 in /Users/lukarecine/.pyenv/versions/3.12.3/lib/python3.12/site-packages (from tensorflow) (2.1.0)\n",
            "Requirement already satisfied: astunparse>=1.6.0 in /Users/lukarecine/.pyenv/versions/3.12.3/lib/python3.12/site-packages (from tensorflow) (1.6.3)\n",
            "Requirement already satisfied: flatbuffers>=23.5.26 in /Users/lukarecine/.pyenv/versions/3.12.3/lib/python3.12/site-packages (from tensorflow) (24.3.25)\n",
            "Requirement already satisfied: gast!=0.5.0,!=0.5.1,!=0.5.2,>=0.2.1 in /Users/lukarecine/.pyenv/versions/3.12.3/lib/python3.12/site-packages (from tensorflow) (0.5.4)\n",
            "Requirement already satisfied: google-pasta>=0.1.1 in /Users/lukarecine/.pyenv/versions/3.12.3/lib/python3.12/site-packages (from tensorflow) (0.2.0)\n",
            "Requirement already satisfied: h5py>=3.10.0 in /Users/lukarecine/.pyenv/versions/3.12.3/lib/python3.12/site-packages (from tensorflow) (3.11.0)\n",
            "Requirement already satisfied: libclang>=13.0.0 in /Users/lukarecine/.pyenv/versions/3.12.3/lib/python3.12/site-packages (from tensorflow) (18.1.1)\n",
            "Requirement already satisfied: ml-dtypes~=0.3.1 in /Users/lukarecine/.pyenv/versions/3.12.3/lib/python3.12/site-packages (from tensorflow) (0.3.2)\n",
            "Requirement already satisfied: opt-einsum>=2.3.2 in /Users/lukarecine/.pyenv/versions/3.12.3/lib/python3.12/site-packages (from tensorflow) (3.3.0)\n",
            "Requirement already satisfied: packaging in /Users/lukarecine/.pyenv/versions/3.12.3/lib/python3.12/site-packages (from tensorflow) (24.1)\n",
            "Requirement already satisfied: protobuf!=4.21.0,!=4.21.1,!=4.21.2,!=4.21.3,!=4.21.4,!=4.21.5,<5.0.0dev,>=3.20.3 in /Users/lukarecine/.pyenv/versions/3.12.3/lib/python3.12/site-packages (from tensorflow) (4.25.3)\n",
            "Requirement already satisfied: requests<3,>=2.21.0 in /Users/lukarecine/.pyenv/versions/3.12.3/lib/python3.12/site-packages (from tensorflow) (2.32.3)\n",
            "Requirement already satisfied: setuptools in /Users/lukarecine/.pyenv/versions/3.12.3/lib/python3.12/site-packages (from tensorflow) (70.0.0)\n",
            "Requirement already satisfied: six>=1.12.0 in /Users/lukarecine/.pyenv/versions/3.12.3/lib/python3.12/site-packages (from tensorflow) (1.16.0)\n",
            "Requirement already satisfied: termcolor>=1.1.0 in /Users/lukarecine/.pyenv/versions/3.12.3/lib/python3.12/site-packages (from tensorflow) (2.4.0)\n",
            "Requirement already satisfied: typing-extensions>=3.6.6 in /Users/lukarecine/.pyenv/versions/3.12.3/lib/python3.12/site-packages (from tensorflow) (4.12.2)\n",
            "Requirement already satisfied: wrapt>=1.11.0 in /Users/lukarecine/.pyenv/versions/3.12.3/lib/python3.12/site-packages (from tensorflow) (1.16.0)\n",
            "Requirement already satisfied: grpcio<2.0,>=1.24.3 in /Users/lukarecine/.pyenv/versions/3.12.3/lib/python3.12/site-packages (from tensorflow) (1.64.1)\n",
            "Requirement already satisfied: tensorboard<2.17,>=2.16 in /Users/lukarecine/.pyenv/versions/3.12.3/lib/python3.12/site-packages (from tensorflow) (2.16.2)\n",
            "Requirement already satisfied: keras>=3.0.0 in /Users/lukarecine/.pyenv/versions/3.12.3/lib/python3.12/site-packages (from tensorflow) (3.3.3)\n",
            "Requirement already satisfied: python-dateutil>=2.8.2 in /Users/lukarecine/.pyenv/versions/3.12.3/lib/python3.12/site-packages (from pandas) (2.9.0.post0)\n",
            "Requirement already satisfied: pytz>=2020.1 in /Users/lukarecine/.pyenv/versions/3.12.3/lib/python3.12/site-packages (from pandas) (2024.1)\n",
            "Requirement already satisfied: tzdata>=2022.7 in /Users/lukarecine/.pyenv/versions/3.12.3/lib/python3.12/site-packages (from pandas) (2024.1)\n",
            "Requirement already satisfied: scipy>=1.6.0 in /Users/lukarecine/.pyenv/versions/3.12.3/lib/python3.12/site-packages (from scikit-learn) (1.13.1)\n",
            "Collecting joblib>=1.2.0 (from scikit-learn)\n",
            "  Using cached joblib-1.4.2-py3-none-any.whl.metadata (5.4 kB)\n",
            "Collecting threadpoolctl>=3.1.0 (from scikit-learn)\n",
            "  Using cached threadpoolctl-3.5.0-py3-none-any.whl.metadata (13 kB)\n",
            "Requirement already satisfied: contourpy>=1.0.1 in /Users/lukarecine/.pyenv/versions/3.12.3/lib/python3.12/site-packages (from matplotlib) (1.2.1)\n",
            "Requirement already satisfied: cycler>=0.10 in /Users/lukarecine/.pyenv/versions/3.12.3/lib/python3.12/site-packages (from matplotlib) (0.12.1)\n",
            "Requirement already satisfied: fonttools>=4.22.0 in /Users/lukarecine/.pyenv/versions/3.12.3/lib/python3.12/site-packages (from matplotlib) (4.53.0)\n",
            "Requirement already satisfied: kiwisolver>=1.3.1 in /Users/lukarecine/.pyenv/versions/3.12.3/lib/python3.12/site-packages (from matplotlib) (1.4.5)\n",
            "Requirement already satisfied: pillow>=8 in /Users/lukarecine/.pyenv/versions/3.12.3/lib/python3.12/site-packages (from matplotlib) (10.3.0)\n",
            "Requirement already satisfied: pyparsing>=2.3.1 in /Users/lukarecine/.pyenv/versions/3.12.3/lib/python3.12/site-packages (from matplotlib) (3.1.2)\n",
            "Requirement already satisfied: wheel<1.0,>=0.23.0 in /Users/lukarecine/.pyenv/versions/3.12.3/lib/python3.12/site-packages (from astunparse>=1.6.0->tensorflow) (0.43.0)\n",
            "Requirement already satisfied: rich in /Users/lukarecine/.pyenv/versions/3.12.3/lib/python3.12/site-packages (from keras>=3.0.0->tensorflow) (13.7.1)\n",
            "Requirement already satisfied: namex in /Users/lukarecine/.pyenv/versions/3.12.3/lib/python3.12/site-packages (from keras>=3.0.0->tensorflow) (0.0.8)\n",
            "Requirement already satisfied: optree in /Users/lukarecine/.pyenv/versions/3.12.3/lib/python3.12/site-packages (from keras>=3.0.0->tensorflow) (0.11.0)\n",
            "Requirement already satisfied: charset-normalizer<4,>=2 in /Users/lukarecine/.pyenv/versions/3.12.3/lib/python3.12/site-packages (from requests<3,>=2.21.0->tensorflow) (3.3.2)\n",
            "Requirement already satisfied: idna<4,>=2.5 in /Users/lukarecine/.pyenv/versions/3.12.3/lib/python3.12/site-packages (from requests<3,>=2.21.0->tensorflow) (3.7)\n",
            "Requirement already satisfied: urllib3<3,>=1.21.1 in /Users/lukarecine/.pyenv/versions/3.12.3/lib/python3.12/site-packages (from requests<3,>=2.21.0->tensorflow) (2.2.1)\n",
            "Requirement already satisfied: certifi>=2017.4.17 in /Users/lukarecine/.pyenv/versions/3.12.3/lib/python3.12/site-packages (from requests<3,>=2.21.0->tensorflow) (2024.6.2)\n",
            "Requirement already satisfied: markdown>=2.6.8 in /Users/lukarecine/.pyenv/versions/3.12.3/lib/python3.12/site-packages (from tensorboard<2.17,>=2.16->tensorflow) (3.6)\n",
            "Requirement already satisfied: tensorboard-data-server<0.8.0,>=0.7.0 in /Users/lukarecine/.pyenv/versions/3.12.3/lib/python3.12/site-packages (from tensorboard<2.17,>=2.16->tensorflow) (0.7.2)\n",
            "Requirement already satisfied: werkzeug>=1.0.1 in /Users/lukarecine/.pyenv/versions/3.12.3/lib/python3.12/site-packages (from tensorboard<2.17,>=2.16->tensorflow) (3.0.3)\n",
            "Requirement already satisfied: MarkupSafe>=2.1.1 in /Users/lukarecine/.pyenv/versions/3.12.3/lib/python3.12/site-packages (from werkzeug>=1.0.1->tensorboard<2.17,>=2.16->tensorflow) (2.1.5)\n",
            "Requirement already satisfied: markdown-it-py>=2.2.0 in /Users/lukarecine/.pyenv/versions/3.12.3/lib/python3.12/site-packages (from rich->keras>=3.0.0->tensorflow) (3.0.0)\n",
            "Requirement already satisfied: pygments<3.0.0,>=2.13.0 in /Users/lukarecine/.pyenv/versions/3.12.3/lib/python3.12/site-packages (from rich->keras>=3.0.0->tensorflow) (2.18.0)\n",
            "Requirement already satisfied: mdurl~=0.1 in /Users/lukarecine/.pyenv/versions/3.12.3/lib/python3.12/site-packages (from markdown-it-py>=2.2.0->rich->keras>=3.0.0->tensorflow) (0.1.2)\n",
            "Downloading tqdm-4.66.5-py3-none-any.whl (78 kB)\n",
            "\u001b[2K   \u001b[90m━━━━━━━━━━━━━━━━━━━━━━━━━━━━━━━━━━━━━━━━\u001b[0m \u001b[32m78.4/78.4 kB\u001b[0m \u001b[31m1.4 MB/s\u001b[0m eta \u001b[36m0:00:00\u001b[0ma \u001b[36m0:00:01\u001b[0m\n",
            "\u001b[?25hUsing cached scikit_learn-1.5.1-cp312-cp312-macosx_10_9_x86_64.whl (12.1 MB)\n",
            "Using cached joblib-1.4.2-py3-none-any.whl (301 kB)\n",
            "Using cached threadpoolctl-3.5.0-py3-none-any.whl (18 kB)\n",
            "Installing collected packages: tqdm, threadpoolctl, joblib, scikit-learn\n",
            "Successfully installed joblib-1.4.2 scikit-learn-1.5.1 threadpoolctl-3.5.0 tqdm-4.66.5\n",
            "\n",
            "\u001b[1m[\u001b[0m\u001b[34;49mnotice\u001b[0m\u001b[1;39;49m]\u001b[0m\u001b[39;49m A new release of pip is available: \u001b[0m\u001b[31;49m24.0\u001b[0m\u001b[39;49m -> \u001b[0m\u001b[32;49m24.2\u001b[0m\n",
            "\u001b[1m[\u001b[0m\u001b[34;49mnotice\u001b[0m\u001b[1;39;49m]\u001b[0m\u001b[39;49m To update, run: \u001b[0m\u001b[32;49mpip install --upgrade pip\u001b[0m\n",
            "Note: you may need to restart the kernel to use updated packages.\n"
          ]
        }
      ],
      "source": [
        "# Install necessary packages\n",
        "%pip install tensorflow numpy tqdm pandas scikit-learn matplotlib tqdm"
      ]
    },
    {
      "cell_type": "code",
      "execution_count": 4,
      "metadata": {
        "id": "EkpmV7F5slxR"
      },
      "outputs": [],
      "source": [
        "import tensorflow as tf\n",
        "import numpy as np\n",
        "import gzip\n",
        "import os\n",
        "from tqdm import tqdm\n",
        "from sklearn.model_selection import KFold\n",
        "import numpy as np\n",
        "import tensorflow as tf\n",
        "from sklearn.preprocessing import OneHotEncoder\n",
        "from sklearn.metrics import classification_report, accuracy_score\n",
        "import pandas as pd\n",
        "import matplotlib.pyplot as plt\n",
        "import numpy as np"
      ]
    },
    {
      "cell_type": "code",
      "execution_count": 5,
      "metadata": {
        "colab": {
          "base_uri": "https://localhost:8080/"
        },
        "id": "rTKjyBJmtUUf",
        "outputId": "9f6ba2db-5a51-4704-e3ec-289cd6db360c"
      },
      "outputs": [
        {
          "name": "stdout",
          "output_type": "stream",
          "text": [
            "Training images shape: (60000, 784)\n",
            "Test images shape: (10000, 784)\n",
            "Training labels shape: (60000,)\n",
            "Test labels shape: (10000,)\n"
          ]
        }
      ],
      "source": [
        "# Function to load MNIST images from .gz file\n",
        "def load_mnist_images(file_path):\n",
        "    with gzip.open(file_path, 'r') as f:\n",
        "        f.read(16)  # Skip metadata\n",
        "        buffer = f.read()\n",
        "        images = np.frombuffer(buffer, dtype=np.uint8).astype(np.float32)\n",
        "        images = images / 255.0  # Normalize to [0, 1]\n",
        "        images = images.reshape(-1, 28 * 28)\n",
        "    return images\n",
        "\n",
        "# Function to load MNIST labels from .gz file\n",
        "def load_mnist_labels(file_path):\n",
        "    with gzip.open(file_path, 'r') as f:\n",
        "        f.read(8)  # Skip metadata\n",
        "        buffer = f.read()\n",
        "        labels = np.frombuffer(buffer, dtype=np.uint8)\n",
        "    return labels\n",
        "\n",
        "# Load the MNIST dataset from the directory\n",
        "mnist_dir = '../MNIST'\n",
        "train_images = load_mnist_images(os.path.join(mnist_dir, 'train-images-idx3-ubyte.gz'))\n",
        "test_images = load_mnist_images(os.path.join(mnist_dir, 't10k-images-idx3-ubyte.gz'))\n",
        "train_labels = load_mnist_labels(os.path.join(mnist_dir, 'train-labels-idx1-ubyte.gz'))\n",
        "test_labels = load_mnist_labels(os.path.join(mnist_dir, 't10k-labels-idx1-ubyte.gz'))\n",
        "\n",
        "print(f\"Training images shape: {train_images.shape}\")\n",
        "print(f\"Test images shape: {test_images.shape}\")\n",
        "print(f\"Training labels shape: {train_labels.shape}\")\n",
        "print(f\"Test labels shape: {test_labels.shape}\")"
      ]
    },
    {
      "cell_type": "code",
      "execution_count": null,
      "metadata": {
        "id": "o3GSBSZWthFa"
      },
      "outputs": [],
      "source": [
        "class RBM:\n",
        "    def __init__(self, visible_units, hidden_units, learning_rate=0.01, momentum=0.9, batch_size=64, epochs=10, dropout_rate=0.2):\n",
        "        self.visible_units = visible_units\n",
        "        self.hidden_units = hidden_units\n",
        "        self.learning_rate = learning_rate\n",
        "        self.momentum = momentum\n",
        "        self.batch_size = batch_size\n",
        "        self.epochs = epochs\n",
        "        self.dropout_rate = dropout_rate\n",
        "\n",
        "        # Xavier Initialization for weights\n",
        "        initializer = tf.initializers.GlorotNormal()\n",
        "        self.W = tf.Variable(initializer([self.visible_units, self.hidden_units]))\n",
        "\n",
        "        self.h_bias = tf.Variable(tf.zeros([self.hidden_units]))  # Hidden layer bias\n",
        "        self.v_bias = tf.Variable(tf.zeros([self.visible_units]))  # Visible layer bias\n",
        "\n",
        "        # Initialize momentum terms\n",
        "        self.dW_momentum = tf.zeros_like(self.W)\n",
        "        self.dh_bias_momentum = tf.zeros_like(self.h_bias)\n",
        "        self.dv_bias_momentum = tf.zeros_like(self.v_bias)\n",
        "\n",
        "    def sample_prob(self, probs):\n",
        "        \"\"\"Sample binary values based on probabilities.\"\"\"\n",
        "        return tf.nn.relu(tf.sign(probs - tf.random.uniform(tf.shape(probs))))\n",
        "\n",
        "    def forward(self, X):\n",
        "        \"\"\"Propagate input data to hidden layer.\"\"\"\n",
        "        h_prob = tf.nn.sigmoid(tf.matmul(X, self.W) + self.h_bias)  # P(h|v)\n",
        "        h_prob = tf.nn.dropout(h_prob, rate=self.dropout_rate)\n",
        "        return h_prob\n",
        "\n",
        "    def backward(self, h):\n",
        "        \"\"\"Propagate from hidden layer to visible layer.\"\"\"\n",
        "        v_prob = tf.nn.sigmoid(tf.matmul(h, tf.transpose(self.W)) + self.v_bias)  # P(v|h)\n",
        "        return v_prob\n",
        "\n",
        "    def train(self, data, rbm_layer):\n",
        "        \"\"\"Train the RBM for unsupervised pretraining with real-time reconstruction error tracking.\"\"\"\n",
        "        print(f\"\\nTraining RBM {rbm_layer}: {self.visible_units} visible units -> {self.hidden_units} hidden units\\n\")\n",
        "\n",
        "        for epoch in range(self.epochs):\n",
        "            total_reconstruction_error = 0  # Track total reconstruction error for this epoch\n",
        "            pbar = tqdm(total=len(data) // self.batch_size, desc=f'Epoch {epoch + 1}/{self.epochs}', unit='batch')\n",
        "\n",
        "            for batch in range(0, data.shape[0], self.batch_size):\n",
        "                X_batch = data[batch:batch+self.batch_size]\n",
        "                h_prob = self.forward(X_batch)\n",
        "                h_sample = self.sample_prob(h_prob)\n",
        "                v_prob_reconstructed = self.backward(h_sample)\n",
        "                h_prob_reconstructed = self.forward(v_prob_reconstructed)\n",
        "\n",
        "                # Calculate reconstruction error (MSE between original and reconstructed input)\n",
        "                reconstruction_error = tf.reduce_mean(tf.square(X_batch - v_prob_reconstructed))\n",
        "                total_reconstruction_error += reconstruction_error\n",
        "\n",
        "                # Contrastive Divergence\n",
        "                positive_grad = tf.matmul(tf.transpose(X_batch), h_prob)\n",
        "                negative_grad = tf.matmul(tf.transpose(v_prob_reconstructed), h_prob_reconstructed)\n",
        "\n",
        "                # Update weights and biases with momentum\n",
        "                dW = (positive_grad - negative_grad) / self.batch_size\n",
        "                dv_bias = tf.reduce_mean(X_batch - v_prob_reconstructed, axis=0)\n",
        "                dh_bias = tf.reduce_mean(h_prob - h_prob_reconstructed, axis=0)\n",
        "\n",
        "                # Apply momentum to updates\n",
        "                self.dW_momentum = self.momentum * self.dW_momentum + self.learning_rate * dW\n",
        "                self.dv_bias_momentum = self.momentum * self.dv_bias_momentum + self.learning_rate * dv_bias\n",
        "                self.dh_bias_momentum = self.momentum * self.dh_bias_momentum + self.learning_rate * dh_bias\n",
        "\n",
        "                # Update parameters\n",
        "                self.W.assign_add(self.dW_momentum)\n",
        "                self.v_bias.assign_add(self.dv_bias_momentum)\n",
        "                self.h_bias.assign_add(self.dh_bias_momentum)\n",
        "\n",
        "                # Update progress bar with real-time reconstruction error\n",
        "                pbar.set_postfix({'Reconstruction Error': reconstruction_error.numpy()})\n",
        "                pbar.update(1)\n",
        "\n",
        "            pbar.close()\n",
        "\n",
        "            avg_reconstruction_error = total_reconstruction_error / (len(data) // self.batch_size)\n",
        "            print(f'[Avg Reconstruction Error: {avg_reconstruction_error.numpy():.6f}]\\n')\n",
        "\n",
        "        # Return the learned hidden features for the next layer\n",
        "        return self.forward(data)\n"
      ]
    },
    {
      "cell_type": "code",
      "execution_count": null,
      "metadata": {
        "colab": {
          "base_uri": "https://localhost:8080/"
        },
        "id": "xEH3yJYHth7U",
        "outputId": "4a79d05f-0b01-451e-fb0d-c8b85728b869"
      },
      "outputs": [
        {
          "name": "stdout",
          "output_type": "stream",
          "text": [
            "\n",
            "Training RBM 1: 784 visible units -> 512 hidden units\n",
            "\n"
          ]
        },
        {
          "name": "stderr",
          "output_type": "stream",
          "text": [
            "Epoch 1/15: 235batch [00:02, 90.96batch/s, Reconstruction Error=0.0255]                      \n"
          ]
        },
        {
          "name": "stdout",
          "output_type": "stream",
          "text": [
            "[Avg Reconstruction Error: 0.037164]\n",
            "\n"
          ]
        },
        {
          "name": "stderr",
          "output_type": "stream",
          "text": [
            "Epoch 2/15: 235batch [00:02, 84.39batch/s, Reconstruction Error=0.0203]                      \n"
          ]
        },
        {
          "name": "stdout",
          "output_type": "stream",
          "text": [
            "[Avg Reconstruction Error: 0.021345]\n",
            "\n"
          ]
        },
        {
          "name": "stderr",
          "output_type": "stream",
          "text": [
            "Epoch 3/15: 235batch [00:02, 90.56batch/s, Reconstruction Error=0.0184]                      \n"
          ]
        },
        {
          "name": "stdout",
          "output_type": "stream",
          "text": [
            "[Avg Reconstruction Error: 0.018204]\n",
            "\n"
          ]
        },
        {
          "name": "stderr",
          "output_type": "stream",
          "text": [
            "Epoch 4/15: 235batch [00:02, 92.69batch/s, Reconstruction Error=0.017]                      \n"
          ]
        },
        {
          "name": "stdout",
          "output_type": "stream",
          "text": [
            "[Avg Reconstruction Error: 0.016651]\n",
            "\n"
          ]
        },
        {
          "name": "stderr",
          "output_type": "stream",
          "text": [
            "Epoch 5/15: 235batch [00:02, 91.87batch/s, Reconstruction Error=0.0159]                      \n"
          ]
        },
        {
          "name": "stdout",
          "output_type": "stream",
          "text": [
            "[Avg Reconstruction Error: 0.015632]\n",
            "\n"
          ]
        },
        {
          "name": "stderr",
          "output_type": "stream",
          "text": [
            "Epoch 6/15: 235batch [00:02, 90.05batch/s, Reconstruction Error=0.0157]                      \n"
          ]
        },
        {
          "name": "stdout",
          "output_type": "stream",
          "text": [
            "[Avg Reconstruction Error: 0.014994]\n",
            "\n"
          ]
        },
        {
          "name": "stderr",
          "output_type": "stream",
          "text": [
            "Epoch 7/15: 235batch [00:02, 88.10batch/s, Reconstruction Error=0.015]                      \n"
          ]
        },
        {
          "name": "stdout",
          "output_type": "stream",
          "text": [
            "[Avg Reconstruction Error: 0.014477]\n",
            "\n"
          ]
        },
        {
          "name": "stderr",
          "output_type": "stream",
          "text": [
            "Epoch 8/15: 235batch [00:02, 91.30batch/s, Reconstruction Error=0.0148]\n"
          ]
        },
        {
          "name": "stdout",
          "output_type": "stream",
          "text": [
            "[Avg Reconstruction Error: 0.014119]\n",
            "\n"
          ]
        },
        {
          "name": "stderr",
          "output_type": "stream",
          "text": [
            "Epoch 9/15: 235batch [00:02, 91.08batch/s, Reconstruction Error=0.0143]                      \n"
          ]
        },
        {
          "name": "stdout",
          "output_type": "stream",
          "text": [
            "[Avg Reconstruction Error: 0.013841]\n",
            "\n"
          ]
        },
        {
          "name": "stderr",
          "output_type": "stream",
          "text": [
            "Epoch 10/15: 235batch [00:02, 89.19batch/s, Reconstruction Error=0.0138]                      \n"
          ]
        },
        {
          "name": "stdout",
          "output_type": "stream",
          "text": [
            "[Avg Reconstruction Error: 0.013597]\n",
            "\n"
          ]
        },
        {
          "name": "stderr",
          "output_type": "stream",
          "text": [
            "Epoch 11/15: 235batch [00:02, 88.86batch/s, Reconstruction Error=0.0137]                      \n"
          ]
        },
        {
          "name": "stdout",
          "output_type": "stream",
          "text": [
            "[Avg Reconstruction Error: 0.013401]\n",
            "\n"
          ]
        },
        {
          "name": "stderr",
          "output_type": "stream",
          "text": [
            "Epoch 12/15: 235batch [00:02, 86.67batch/s, Reconstruction Error=0.0137]                      \n"
          ]
        },
        {
          "name": "stdout",
          "output_type": "stream",
          "text": [
            "[Avg Reconstruction Error: 0.013250]\n",
            "\n"
          ]
        },
        {
          "name": "stderr",
          "output_type": "stream",
          "text": [
            "Epoch 13/15: 235batch [00:02, 89.83batch/s, Reconstruction Error=0.0136]                      \n"
          ]
        },
        {
          "name": "stdout",
          "output_type": "stream",
          "text": [
            "[Avg Reconstruction Error: 0.013126]\n",
            "\n"
          ]
        },
        {
          "name": "stderr",
          "output_type": "stream",
          "text": [
            "Epoch 14/15: 235batch [00:02, 88.68batch/s, Reconstruction Error=0.0134]                      \n"
          ]
        },
        {
          "name": "stdout",
          "output_type": "stream",
          "text": [
            "[Avg Reconstruction Error: 0.013002]\n",
            "\n"
          ]
        },
        {
          "name": "stderr",
          "output_type": "stream",
          "text": [
            "Epoch 15/15: 235batch [00:02, 89.93batch/s, Reconstruction Error=0.0133]\n"
          ]
        },
        {
          "name": "stdout",
          "output_type": "stream",
          "text": [
            "[Avg Reconstruction Error: 0.012905]\n",
            "\n",
            "\n",
            "Training RBM 2: 512 visible units -> 256 hidden units\n",
            "\n"
          ]
        },
        {
          "name": "stderr",
          "output_type": "stream",
          "text": [
            "Epoch 1/10: 235batch [00:02, 111.57batch/s, Reconstruction Error=0.165]                      \n"
          ]
        },
        {
          "name": "stdout",
          "output_type": "stream",
          "text": [
            "[Avg Reconstruction Error: 0.171853]\n",
            "\n"
          ]
        },
        {
          "name": "stderr",
          "output_type": "stream",
          "text": [
            "Epoch 2/10: 235batch [00:02, 113.27batch/s, Reconstruction Error=0.145]                      \n"
          ]
        },
        {
          "name": "stdout",
          "output_type": "stream",
          "text": [
            "[Avg Reconstruction Error: 0.141608]\n",
            "\n"
          ]
        },
        {
          "name": "stderr",
          "output_type": "stream",
          "text": [
            "Epoch 3/10: 235batch [00:02, 113.15batch/s, Reconstruction Error=0.137]                      \n"
          ]
        },
        {
          "name": "stdout",
          "output_type": "stream",
          "text": [
            "[Avg Reconstruction Error: 0.130107]\n",
            "\n"
          ]
        },
        {
          "name": "stderr",
          "output_type": "stream",
          "text": [
            "Epoch 4/10: 235batch [00:01, 118.37batch/s, Reconstruction Error=0.131]                      \n"
          ]
        },
        {
          "name": "stdout",
          "output_type": "stream",
          "text": [
            "[Avg Reconstruction Error: 0.123644]\n",
            "\n"
          ]
        },
        {
          "name": "stderr",
          "output_type": "stream",
          "text": [
            "Epoch 5/10: 235batch [00:01, 117.57batch/s, Reconstruction Error=0.126]\n"
          ]
        },
        {
          "name": "stdout",
          "output_type": "stream",
          "text": [
            "[Avg Reconstruction Error: 0.119060]\n",
            "\n"
          ]
        },
        {
          "name": "stderr",
          "output_type": "stream",
          "text": [
            "Epoch 6/10: 235batch [00:01, 119.45batch/s, Reconstruction Error=0.123]                      \n"
          ]
        },
        {
          "name": "stdout",
          "output_type": "stream",
          "text": [
            "[Avg Reconstruction Error: 0.115689]\n",
            "\n"
          ]
        },
        {
          "name": "stderr",
          "output_type": "stream",
          "text": [
            "Epoch 7/10: 235batch [00:02, 114.45batch/s, Reconstruction Error=0.12]                      \n"
          ]
        },
        {
          "name": "stdout",
          "output_type": "stream",
          "text": [
            "[Avg Reconstruction Error: 0.113110]\n",
            "\n"
          ]
        },
        {
          "name": "stderr",
          "output_type": "stream",
          "text": [
            "Epoch 8/10: 235batch [00:02, 112.81batch/s, Reconstruction Error=0.118]                      \n"
          ]
        },
        {
          "name": "stdout",
          "output_type": "stream",
          "text": [
            "[Avg Reconstruction Error: 0.111074]\n",
            "\n"
          ]
        },
        {
          "name": "stderr",
          "output_type": "stream",
          "text": [
            "Epoch 9/10: 235batch [00:01, 124.85batch/s, Reconstruction Error=0.117]                      \n"
          ]
        },
        {
          "name": "stdout",
          "output_type": "stream",
          "text": [
            "[Avg Reconstruction Error: 0.109417]\n",
            "\n"
          ]
        },
        {
          "name": "stderr",
          "output_type": "stream",
          "text": [
            "Epoch 10/10: 235batch [00:01, 119.98batch/s, Reconstruction Error=0.114]                      \n"
          ]
        },
        {
          "name": "stdout",
          "output_type": "stream",
          "text": [
            "[Avg Reconstruction Error: 0.108010]\n",
            "\n",
            "\n",
            "Training RBM 3: 256 visible units -> 128 hidden units\n",
            "\n"
          ]
        },
        {
          "name": "stderr",
          "output_type": "stream",
          "text": [
            "Epoch 1/10: 235batch [00:01, 125.97batch/s, Reconstruction Error=0.18]                      \n"
          ]
        },
        {
          "name": "stdout",
          "output_type": "stream",
          "text": [
            "[Avg Reconstruction Error: 0.206578]\n",
            "\n"
          ]
        },
        {
          "name": "stderr",
          "output_type": "stream",
          "text": [
            "Epoch 2/10: 235batch [00:02, 117.24batch/s, Reconstruction Error=0.152]                      \n"
          ]
        },
        {
          "name": "stdout",
          "output_type": "stream",
          "text": [
            "[Avg Reconstruction Error: 0.166110]\n",
            "\n"
          ]
        },
        {
          "name": "stderr",
          "output_type": "stream",
          "text": [
            "Epoch 3/10: 235batch [00:01, 121.39batch/s, Reconstruction Error=0.14]                      \n"
          ]
        },
        {
          "name": "stdout",
          "output_type": "stream",
          "text": [
            "[Avg Reconstruction Error: 0.149319]\n",
            "\n"
          ]
        },
        {
          "name": "stderr",
          "output_type": "stream",
          "text": [
            "Epoch 4/10: 235batch [00:02, 111.04batch/s, Reconstruction Error=0.134]                      \n"
          ]
        },
        {
          "name": "stdout",
          "output_type": "stream",
          "text": [
            "[Avg Reconstruction Error: 0.140945]\n",
            "\n"
          ]
        },
        {
          "name": "stderr",
          "output_type": "stream",
          "text": [
            "Epoch 5/10: 235batch [00:01, 121.56batch/s, Reconstruction Error=0.13]                      \n"
          ]
        },
        {
          "name": "stdout",
          "output_type": "stream",
          "text": [
            "[Avg Reconstruction Error: 0.135298]\n",
            "\n"
          ]
        },
        {
          "name": "stderr",
          "output_type": "stream",
          "text": [
            "Epoch 6/10: 235batch [00:02, 117.47batch/s, Reconstruction Error=0.126]                      \n"
          ]
        },
        {
          "name": "stdout",
          "output_type": "stream",
          "text": [
            "[Avg Reconstruction Error: 0.131130]\n",
            "\n"
          ]
        },
        {
          "name": "stderr",
          "output_type": "stream",
          "text": [
            "Epoch 7/10: 235batch [00:01, 119.35batch/s, Reconstruction Error=0.123]                      \n"
          ]
        },
        {
          "name": "stdout",
          "output_type": "stream",
          "text": [
            "[Avg Reconstruction Error: 0.127930]\n",
            "\n"
          ]
        },
        {
          "name": "stderr",
          "output_type": "stream",
          "text": [
            "Epoch 8/10: 235batch [00:01, 125.23batch/s, Reconstruction Error=0.121]                      \n"
          ]
        },
        {
          "name": "stdout",
          "output_type": "stream",
          "text": [
            "[Avg Reconstruction Error: 0.125485]\n",
            "\n"
          ]
        },
        {
          "name": "stderr",
          "output_type": "stream",
          "text": [
            "Epoch 9/10: 235batch [00:01, 118.19batch/s, Reconstruction Error=0.118]                      \n"
          ]
        },
        {
          "name": "stdout",
          "output_type": "stream",
          "text": [
            "[Avg Reconstruction Error: 0.123555]\n",
            "\n"
          ]
        },
        {
          "name": "stderr",
          "output_type": "stream",
          "text": [
            "Epoch 10/10: 235batch [00:01, 118.43batch/s, Reconstruction Error=0.118]                      \n"
          ]
        },
        {
          "name": "stdout",
          "output_type": "stream",
          "text": [
            "[Avg Reconstruction Error: 0.122052]\n",
            "\n",
            "\n",
            "Training RBM 4: 128 visible units -> 64 hidden units\n",
            "\n"
          ]
        },
        {
          "name": "stderr",
          "output_type": "stream",
          "text": [
            "Epoch 1/10: 235batch [00:02, 112.63batch/s, Reconstruction Error=0.22]                      \n"
          ]
        },
        {
          "name": "stdout",
          "output_type": "stream",
          "text": [
            "[Avg Reconstruction Error: 0.240761]\n",
            "\n"
          ]
        },
        {
          "name": "stderr",
          "output_type": "stream",
          "text": [
            "Epoch 2/10: 235batch [00:01, 121.22batch/s, Reconstruction Error=0.186]                      \n"
          ]
        },
        {
          "name": "stdout",
          "output_type": "stream",
          "text": [
            "[Avg Reconstruction Error: 0.197517]\n",
            "\n"
          ]
        },
        {
          "name": "stderr",
          "output_type": "stream",
          "text": [
            "Epoch 3/10: 235batch [00:02, 115.49batch/s, Reconstruction Error=0.169]                      \n"
          ]
        },
        {
          "name": "stdout",
          "output_type": "stream",
          "text": [
            "[Avg Reconstruction Error: 0.174802]\n",
            "\n"
          ]
        },
        {
          "name": "stderr",
          "output_type": "stream",
          "text": [
            "Epoch 4/10: 235batch [00:01, 121.52batch/s, Reconstruction Error=0.162]                      \n"
          ]
        },
        {
          "name": "stdout",
          "output_type": "stream",
          "text": [
            "[Avg Reconstruction Error: 0.163534]\n",
            "\n"
          ]
        },
        {
          "name": "stderr",
          "output_type": "stream",
          "text": [
            "Epoch 5/10: 235batch [00:01, 120.03batch/s, Reconstruction Error=0.154]                      \n"
          ]
        },
        {
          "name": "stdout",
          "output_type": "stream",
          "text": [
            "[Avg Reconstruction Error: 0.156407]\n",
            "\n"
          ]
        },
        {
          "name": "stderr",
          "output_type": "stream",
          "text": [
            "Epoch 6/10: 235batch [00:02, 113.76batch/s, Reconstruction Error=0.152]                      \n"
          ]
        },
        {
          "name": "stdout",
          "output_type": "stream",
          "text": [
            "[Avg Reconstruction Error: 0.151971]\n",
            "\n"
          ]
        },
        {
          "name": "stderr",
          "output_type": "stream",
          "text": [
            "Epoch 7/10: 235batch [00:02, 113.52batch/s, Reconstruction Error=0.147]                      \n"
          ]
        },
        {
          "name": "stdout",
          "output_type": "stream",
          "text": [
            "[Avg Reconstruction Error: 0.148696]\n",
            "\n"
          ]
        },
        {
          "name": "stderr",
          "output_type": "stream",
          "text": [
            "Epoch 8/10: 235batch [00:02, 116.68batch/s, Reconstruction Error=0.146]                      \n"
          ]
        },
        {
          "name": "stdout",
          "output_type": "stream",
          "text": [
            "[Avg Reconstruction Error: 0.146082]\n",
            "\n"
          ]
        },
        {
          "name": "stderr",
          "output_type": "stream",
          "text": [
            "Epoch 9/10: 235batch [00:02, 116.53batch/s, Reconstruction Error=0.144]                      \n"
          ]
        },
        {
          "name": "stdout",
          "output_type": "stream",
          "text": [
            "[Avg Reconstruction Error: 0.144075]\n",
            "\n"
          ]
        },
        {
          "name": "stderr",
          "output_type": "stream",
          "text": [
            "Epoch 10/10: 235batch [00:01, 120.96batch/s, Reconstruction Error=0.14]                      "
          ]
        },
        {
          "name": "stdout",
          "output_type": "stream",
          "text": [
            "[Avg Reconstruction Error: 0.142524]\n",
            "\n"
          ]
        },
        {
          "name": "stderr",
          "output_type": "stream",
          "text": [
            "\n"
          ]
        }
      ],
      "source": [
        "# Train RBM 1\n",
        "rbm_1 = RBM(visible_units=784, hidden_units=512, learning_rate=0.01, momentum=0.9, batch_size=256, epochs=15)\n",
        "h1 = rbm_1.train(train_images, rbm_layer=1)\n",
        "\n",
        "# Train RBM 2\n",
        "rbm_2 = RBM(visible_units=512, hidden_units=256, learning_rate=0.001, momentum=0.9, batch_size=256, epochs=10)\n",
        "h2 = rbm_2.train(h1, rbm_layer=2)\n",
        "\n",
        "# Train RBM 3\n",
        "rbm_3 = RBM(visible_units=256, hidden_units=128, learning_rate=0.001, momentum=0.9, batch_size=256, epochs=10)\n",
        "h3 = rbm_3.train(h2, rbm_layer=3)\n",
        "\n",
        "# Train RBM 4\n",
        "rbm_4 = RBM(visible_units=128, hidden_units=64, learning_rate=0.001, momentum=0.9, batch_size=256, epochs=10)\n",
        "h4 = rbm_4.train(h3, rbm_layer=4)\n",
        "\n",
        "# Collect all RBM layers into a list\n",
        "rbm_layers = [rbm_1, rbm_2, rbm_3, rbm_4]"
      ]
    },
    {
      "cell_type": "code",
      "execution_count": null,
      "metadata": {
        "id": "Oti1Vn4iuTuz"
      },
      "outputs": [],
      "source": [
        "# Now you can integrate these pre-trained RBM layers into a Deep Belief Network (DBN)\n",
        "def create_dbn_model(rbm_layers):\n",
        "    model = tf.keras.models.Sequential([\n",
        "        tf.keras.layers.Input(shape=(28 * 28,)),\n",
        "        tf.keras.layers.Dense(512, activation='relu', kernel_initializer=tf.constant_initializer(rbm_layers[0].W.numpy()), bias_initializer=tf.constant_initializer(rbm_layers[0].h_bias.numpy())),\n",
        "        tf.keras.layers.BatchNormalization(),\n",
        "        tf.keras.layers.Dense(256, activation='relu', kernel_initializer=tf.constant_initializer(rbm_layers[1].W.numpy()), bias_initializer=tf.constant_initializer(rbm_layers[1].h_bias.numpy())),\n",
        "        tf.keras.layers.BatchNormalization(),\n",
        "        tf.keras.layers.Dense(128, activation='relu', kernel_initializer=tf.constant_initializer(rbm_layers[2].W.numpy()), bias_initializer=tf.constant_initializer(rbm_layers[2].h_bias.numpy())),\n",
        "        tf.keras.layers.BatchNormalization(),\n",
        "        tf.keras.layers.Dense(64, activation='relu', kernel_initializer=tf.constant_initializer(rbm_layers[3].W.numpy()), bias_initializer=tf.constant_initializer(rbm_layers[3].h_bias.numpy())),\n",
        "        tf.keras.layers.BatchNormalization(),\n",
        "        tf.keras.layers.Dense(10, activation='softmax')  # Output layer\n",
        "    ])\n",
        "\n",
        "    model.compile(optimizer='adam', loss='categorical_crossentropy', metrics=['accuracy'])\n",
        "    return model"
      ]
    },
    {
      "cell_type": "code",
      "execution_count": null,
      "metadata": {
        "colab": {
          "base_uri": "https://localhost:8080/"
        },
        "id": "U6vQ3SxDuddc",
        "outputId": "8a59b336-6801-4074-f8c5-dd19e6358f45"
      },
      "outputs": [
        {
          "name": "stdout",
          "output_type": "stream",
          "text": [
            "Fold 1/5\n",
            "Epoch 1/100\n",
            "1500/1500 - 9s - 6ms/step - accuracy: 0.9011 - loss: 0.3317 - val_accuracy: 0.9691 - val_loss: 0.1037 - learning_rate: 0.0010\n",
            "Epoch 2/100\n",
            "1500/1500 - 5s - 3ms/step - accuracy: 0.9667 - loss: 0.1094 - val_accuracy: 0.9736 - val_loss: 0.0880 - learning_rate: 0.0010\n",
            "Epoch 3/100\n",
            "1500/1500 - 5s - 3ms/step - accuracy: 0.9767 - loss: 0.0736 - val_accuracy: 0.9786 - val_loss: 0.0717 - learning_rate: 0.0010\n",
            "Epoch 4/100\n",
            "1500/1500 - 4s - 2ms/step - accuracy: 0.9817 - loss: 0.0587 - val_accuracy: 0.9785 - val_loss: 0.0765 - learning_rate: 0.0010\n",
            "Epoch 5/100\n",
            "1500/1500 - 5s - 3ms/step - accuracy: 0.9898 - loss: 0.0326 - val_accuracy: 0.9823 - val_loss: 0.0646 - learning_rate: 2.0000e-04\n",
            "Epoch 6/100\n",
            "1500/1500 - 5s - 3ms/step - accuracy: 0.9929 - loss: 0.0238 - val_accuracy: 0.9833 - val_loss: 0.0629 - learning_rate: 2.0000e-04\n",
            "Epoch 7/100\n",
            "1500/1500 - 5s - 3ms/step - accuracy: 0.9932 - loss: 0.0218 - val_accuracy: 0.9833 - val_loss: 0.0627 - learning_rate: 2.0000e-04\n",
            "Epoch 8/100\n",
            "1500/1500 - 5s - 3ms/step - accuracy: 0.9944 - loss: 0.0179 - val_accuracy: 0.9835 - val_loss: 0.0620 - learning_rate: 2.0000e-04\n",
            "Epoch 9/100\n",
            "1500/1500 - 4s - 2ms/step - accuracy: 0.9951 - loss: 0.0160 - val_accuracy: 0.9844 - val_loss: 0.0629 - learning_rate: 2.0000e-04\n",
            "Epoch 10/100\n",
            "1500/1500 - 4s - 2ms/step - accuracy: 0.9960 - loss: 0.0132 - val_accuracy: 0.9844 - val_loss: 0.0621 - learning_rate: 4.0000e-05\n",
            "Validation accuracy for fold 1: 0.9835\n",
            "Fold 2/5\n",
            "Epoch 1/100\n",
            "1500/1500 - 9s - 6ms/step - accuracy: 0.9106 - loss: 0.3036 - val_accuracy: 0.9696 - val_loss: 0.1026 - learning_rate: 0.0010\n",
            "Epoch 2/100\n",
            "1500/1500 - 5s - 3ms/step - accuracy: 0.9672 - loss: 0.1102 - val_accuracy: 0.9770 - val_loss: 0.0813 - learning_rate: 0.0010\n",
            "Epoch 3/100\n",
            "1500/1500 - 5s - 3ms/step - accuracy: 0.9775 - loss: 0.0742 - val_accuracy: 0.9798 - val_loss: 0.0677 - learning_rate: 0.0010\n",
            "Epoch 4/100\n",
            "1500/1500 - 5s - 3ms/step - accuracy: 0.9816 - loss: 0.0573 - val_accuracy: 0.9805 - val_loss: 0.0642 - learning_rate: 0.0010\n",
            "Epoch 5/100\n",
            "1500/1500 - 4s - 2ms/step - accuracy: 0.9857 - loss: 0.0446 - val_accuracy: 0.9806 - val_loss: 0.0704 - learning_rate: 0.0010\n",
            "Epoch 6/100\n",
            "1500/1500 - 5s - 3ms/step - accuracy: 0.9919 - loss: 0.0261 - val_accuracy: 0.9843 - val_loss: 0.0544 - learning_rate: 2.0000e-04\n",
            "Epoch 7/100\n",
            "1500/1500 - 5s - 3ms/step - accuracy: 0.9944 - loss: 0.0183 - val_accuracy: 0.9860 - val_loss: 0.0537 - learning_rate: 2.0000e-04\n",
            "Epoch 8/100\n",
            "1500/1500 - 4s - 2ms/step - accuracy: 0.9948 - loss: 0.0160 - val_accuracy: 0.9854 - val_loss: 0.0543 - learning_rate: 2.0000e-04\n",
            "Epoch 9/100\n",
            "1500/1500 - 4s - 2ms/step - accuracy: 0.9962 - loss: 0.0123 - val_accuracy: 0.9859 - val_loss: 0.0537 - learning_rate: 4.0000e-05\n",
            "Validation accuracy for fold 2: 0.9860\n",
            "Fold 3/5\n",
            "Epoch 1/100\n",
            "1500/1500 - 9s - 6ms/step - accuracy: 0.9121 - loss: 0.2962 - val_accuracy: 0.9693 - val_loss: 0.1032 - learning_rate: 0.0010\n",
            "Epoch 2/100\n",
            "1500/1500 - 5s - 3ms/step - accuracy: 0.9670 - loss: 0.1083 - val_accuracy: 0.9748 - val_loss: 0.0859 - learning_rate: 0.0010\n",
            "Epoch 3/100\n",
            "1500/1500 - 5s - 3ms/step - accuracy: 0.9772 - loss: 0.0739 - val_accuracy: 0.9778 - val_loss: 0.0752 - learning_rate: 0.0010\n",
            "Epoch 4/100\n",
            "1500/1500 - 4s - 2ms/step - accuracy: 0.9835 - loss: 0.0537 - val_accuracy: 0.9765 - val_loss: 0.0787 - learning_rate: 0.0010\n",
            "Epoch 5/100\n",
            "1500/1500 - 5s - 3ms/step - accuracy: 0.9895 - loss: 0.0335 - val_accuracy: 0.9818 - val_loss: 0.0646 - learning_rate: 2.0000e-04\n",
            "Epoch 6/100\n",
            "1500/1500 - 5s - 3ms/step - accuracy: 0.9930 - loss: 0.0239 - val_accuracy: 0.9825 - val_loss: 0.0645 - learning_rate: 2.0000e-04\n",
            "Epoch 7/100\n",
            "1500/1500 - 5s - 3ms/step - accuracy: 0.9933 - loss: 0.0211 - val_accuracy: 0.9822 - val_loss: 0.0636 - learning_rate: 2.0000e-04\n",
            "Epoch 8/100\n",
            "1500/1500 - 5s - 3ms/step - accuracy: 0.9944 - loss: 0.0185 - val_accuracy: 0.9827 - val_loss: 0.0632 - learning_rate: 2.0000e-04\n",
            "Epoch 9/100\n",
            "1500/1500 - 4s - 2ms/step - accuracy: 0.9954 - loss: 0.0152 - val_accuracy: 0.9826 - val_loss: 0.0676 - learning_rate: 2.0000e-04\n",
            "Epoch 10/100\n",
            "1500/1500 - 4s - 2ms/step - accuracy: 0.9957 - loss: 0.0138 - val_accuracy: 0.9833 - val_loss: 0.0650 - learning_rate: 4.0000e-05\n",
            "Validation accuracy for fold 3: 0.9827\n",
            "Fold 4/5\n",
            "Epoch 1/100\n",
            "1500/1500 - 9s - 6ms/step - accuracy: 0.9095 - loss: 0.3082 - val_accuracy: 0.9689 - val_loss: 0.1055 - learning_rate: 0.0010\n",
            "Epoch 2/100\n",
            "1500/1500 - 5s - 3ms/step - accuracy: 0.9664 - loss: 0.1102 - val_accuracy: 0.9745 - val_loss: 0.0854 - learning_rate: 0.0010\n",
            "Epoch 3/100\n",
            "1500/1500 - 5s - 3ms/step - accuracy: 0.9781 - loss: 0.0711 - val_accuracy: 0.9777 - val_loss: 0.0781 - learning_rate: 0.0010\n",
            "Epoch 4/100\n",
            "1500/1500 - 4s - 2ms/step - accuracy: 0.9828 - loss: 0.0551 - val_accuracy: 0.9777 - val_loss: 0.0793 - learning_rate: 0.0010\n",
            "Epoch 5/100\n",
            "1500/1500 - 5s - 3ms/step - accuracy: 0.9909 - loss: 0.0299 - val_accuracy: 0.9823 - val_loss: 0.0664 - learning_rate: 2.0000e-04\n",
            "Epoch 6/100\n",
            "1500/1500 - 5s - 3ms/step - accuracy: 0.9927 - loss: 0.0229 - val_accuracy: 0.9826 - val_loss: 0.0659 - learning_rate: 2.0000e-04\n",
            "Epoch 7/100\n",
            "1500/1500 - 4s - 2ms/step - accuracy: 0.9941 - loss: 0.0202 - val_accuracy: 0.9824 - val_loss: 0.0662 - learning_rate: 2.0000e-04\n",
            "Epoch 8/100\n",
            "1500/1500 - 5s - 3ms/step - accuracy: 0.9956 - loss: 0.0147 - val_accuracy: 0.9829 - val_loss: 0.0656 - learning_rate: 4.0000e-05\n",
            "Epoch 9/100\n",
            "1500/1500 - 4s - 2ms/step - accuracy: 0.9959 - loss: 0.0141 - val_accuracy: 0.9835 - val_loss: 0.0657 - learning_rate: 4.0000e-05\n",
            "Epoch 10/100\n",
            "1500/1500 - 5s - 3ms/step - accuracy: 0.9960 - loss: 0.0136 - val_accuracy: 0.9837 - val_loss: 0.0647 - learning_rate: 1.0000e-05\n",
            "Epoch 11/100\n",
            "1500/1500 - 4s - 2ms/step - accuracy: 0.9964 - loss: 0.0131 - val_accuracy: 0.9836 - val_loss: 0.0649 - learning_rate: 1.0000e-05\n",
            "Epoch 12/100\n",
            "1500/1500 - 4s - 2ms/step - accuracy: 0.9964 - loss: 0.0130 - val_accuracy: 0.9834 - val_loss: 0.0649 - learning_rate: 1.0000e-05\n",
            "Validation accuracy for fold 4: 0.9837\n",
            "Fold 5/5\n",
            "Epoch 1/100\n",
            "1500/1500 - 9s - 6ms/step - accuracy: 0.9081 - loss: 0.3089 - val_accuracy: 0.9686 - val_loss: 0.1020 - learning_rate: 0.0010\n",
            "Epoch 2/100\n",
            "1500/1500 - 5s - 3ms/step - accuracy: 0.9676 - loss: 0.1069 - val_accuracy: 0.9752 - val_loss: 0.0870 - learning_rate: 0.0010\n",
            "Epoch 3/100\n",
            "1500/1500 - 5s - 3ms/step - accuracy: 0.9767 - loss: 0.0747 - val_accuracy: 0.9742 - val_loss: 0.0819 - learning_rate: 0.0010\n",
            "Epoch 4/100\n",
            "1500/1500 - 5s - 3ms/step - accuracy: 0.9822 - loss: 0.0566 - val_accuracy: 0.9772 - val_loss: 0.0742 - learning_rate: 0.0010\n",
            "Epoch 5/100\n",
            "1500/1500 - 4s - 2ms/step - accuracy: 0.9858 - loss: 0.0443 - val_accuracy: 0.9783 - val_loss: 0.0761 - learning_rate: 0.0010\n",
            "Epoch 6/100\n",
            "1500/1500 - 5s - 3ms/step - accuracy: 0.9918 - loss: 0.0265 - val_accuracy: 0.9816 - val_loss: 0.0616 - learning_rate: 2.0000e-04\n",
            "Epoch 7/100\n",
            "1500/1500 - 5s - 3ms/step - accuracy: 0.9940 - loss: 0.0200 - val_accuracy: 0.9842 - val_loss: 0.0583 - learning_rate: 2.0000e-04\n",
            "Epoch 8/100\n",
            "1500/1500 - 4s - 3ms/step - accuracy: 0.9951 - loss: 0.0160 - val_accuracy: 0.9818 - val_loss: 0.0606 - learning_rate: 2.0000e-04\n",
            "Epoch 9/100\n",
            "1500/1500 - 4s - 3ms/step - accuracy: 0.9958 - loss: 0.0138 - val_accuracy: 0.9826 - val_loss: 0.0597 - learning_rate: 4.0000e-05\n",
            "Validation accuracy for fold 5: 0.9842\n"
          ]
        }
      ],
      "source": [
        "# One-Hot Encode the labels\n",
        "one_hot_encoder = OneHotEncoder(sparse_output=False)\n",
        "labels_onehot = one_hot_encoder.fit_transform(train_labels.reshape(-1, 1))\n",
        "\n",
        "# One-Hot Encode the test labels\n",
        "test_labels_onehot = one_hot_encoder.transform(test_labels.reshape(-1, 1))\n",
        "\n",
        "# Convert data to NumPy arrays for indexing\n",
        "train_images_array = np.array(train_images)\n",
        "labels_onehot_array = np.array(labels_onehot)\n",
        "\n",
        "# Define the number of folds\n",
        "k = 5\n",
        "kf = KFold(n_splits=k, shuffle=True, random_state=42)\n",
        "\n",
        "val_accuracies = []\n",
        "fold = 1\n",
        "\n",
        "for train_index, val_index in kf.split(train_images_array):\n",
        "    print(f\"Fold {fold}/{k}\")\n",
        "\n",
        "    # Split the data into training and validation sets\n",
        "    X_train_fold, X_val_fold = train_images_array[train_index], train_images_array[val_index]\n",
        "    y_train_fold, y_val_fold = labels_onehot_array[train_index], labels_onehot_array[val_index]\n",
        "\n",
        "    # Create a new instance of the model for each fold\n",
        "    dbn_model = create_dbn_model(rbm_layers)\n",
        "\n",
        "    # Define callbacks (optional: you can save models per fold)\n",
        "    early_stopping = tf.keras.callbacks.EarlyStopping(monitor='val_loss', patience=3, restore_best_weights=True)\n",
        "    reduce_lr = tf.keras.callbacks.ReduceLROnPlateau(monitor='val_loss', factor=0.2, patience=1, min_lr=1e-5)\n",
        "    model_checkpoint = tf.keras.callbacks.ModelCheckpoint(f'final_dbn_model_fold_{fold}.keras', monitor='val_loss', save_best_only=True)\n",
        "\n",
        "    # Fine-tune the DBN\n",
        "    dbn_model.fit(\n",
        "        X_train_fold, y_train_fold,\n",
        "        epochs=100,\n",
        "        validation_data=(X_val_fold, y_val_fold),\n",
        "        callbacks=[early_stopping, reduce_lr, model_checkpoint],\n",
        "        verbose=2\n",
        "    )\n",
        "\n",
        "    # Evaluate on the validation fold\n",
        "    val_loss, val_accuracy = dbn_model.evaluate(X_val_fold, y_val_fold, verbose=0)\n",
        "    print(f\"Validation accuracy for fold {fold}: {val_accuracy:.4f}\")\n",
        "    val_accuracies.append(val_accuracy)\n",
        "\n",
        "    fold += 1"
      ]
    },
    {
      "cell_type": "code",
      "execution_count": null,
      "metadata": {
        "colab": {
          "base_uri": "https://localhost:8080/"
        },
        "id": "gjS3unNqkfF1",
        "outputId": "fac0363e-903b-4e22-e1b5-c96fb4902ef3"
      },
      "outputs": [
        {
          "name": "stdout",
          "output_type": "stream",
          "text": [
            "\n",
            "Average validation accuracy over 5 folds: 0.9840\n",
            "Epoch 1/100\n",
            "1875/1875 - 9s - 5ms/step - accuracy: 0.9165 - loss: 0.2795 - val_accuracy: 0.9749 - val_loss: 0.0842 - learning_rate: 0.0010\n",
            "Epoch 2/100\n",
            "1875/1875 - 4s - 2ms/step - accuracy: 0.9708 - loss: 0.0991 - val_accuracy: 0.9768 - val_loss: 0.0769 - learning_rate: 0.0010\n"
          ]
        }
      ],
      "source": [
        "# Calculate the average validation accuracy across all folds\n",
        "average_val_accuracy = np.mean(val_accuracies)\n",
        "print(f\"\\nAverage validation accuracy over {k} folds: {average_val_accuracy:.4f}\")\n",
        "\n",
        "# Optional: Retrain on the entire training set and evaluate on the test set\n",
        "dbn_model = create_dbn_model(rbm_layers)\n",
        "dbn_model.fit(\n",
        "    train_images, labels_onehot,\n",
        "    epochs=100,\n",
        "    validation_data=(test_images, test_labels_onehot),\n",
        "    callbacks=[early_stopping, reduce_lr, model_checkpoint],\n",
        "    verbose=2\n",
        ")\n",
        "\n",
        "# Save the final model\n",
        "dbn_model.save('final_dbn_model.keras')"
      ]
    },
    {
      "cell_type": "code",
      "execution_count": null,
      "metadata": {
        "colab": {
          "base_uri": "https://localhost:8080/"
        },
        "id": "hUdlEmhsue4T",
        "outputId": "bbca015d-70ed-4bf9-c1f7-f21d0fa640f6"
      },
      "outputs": [
        {
          "name": "stdout",
          "output_type": "stream",
          "text": [
            "\u001b[1m313/313\u001b[0m \u001b[32m━━━━━━━━━━━━━━━━━━━━\u001b[0m\u001b[37m\u001b[0m \u001b[1m1s\u001b[0m 2ms/step\n",
            "              precision    recall  f1-score     support  accuracy\n",
            "0              0.983723  0.986735  0.985227    980.0000    0.9749\n",
            "1              0.990291  0.988546  0.989418   1135.0000    0.9749\n",
            "2              0.973077  0.980620  0.976834   1032.0000    0.9749\n",
            "3              0.954677  0.980198  0.967269   1010.0000    0.9749\n",
            "4              0.979403  0.968432  0.973886    982.0000    0.9749\n",
            "5              0.980571  0.961883  0.971138    892.0000    0.9749\n",
            "6              0.986287  0.975992  0.981112    958.0000    0.9749\n",
            "7              0.979228  0.963035  0.971064   1028.0000    0.9749\n",
            "8              0.963636  0.979466  0.971487    974.0000    0.9749\n",
            "9              0.958498  0.961348  0.959921   1009.0000    0.9749\n",
            "accuracy       0.974900  0.974900  0.974900      0.9749    0.9749\n",
            "macro avg      0.974939  0.974625  0.974736  10000.0000    0.9749\n",
            "weighted avg   0.975013  0.974900  0.974910  10000.0000    0.9749\n"
          ]
        }
      ],
      "source": [
        "# Predict on the test set\n",
        "predictions = dbn_model.predict(test_images)\n",
        "predicted_labels = np.argmax(predictions, axis=1)\n",
        "\n",
        "# Generate classification report\n",
        "report = classification_report(np.argmax(test_labels_onehot, axis=1), predicted_labels, output_dict=True)\n",
        "accuracy = accuracy_score(np.argmax(test_labels_onehot, axis=1), predicted_labels)\n",
        "\n",
        "# Create a DataFrame from the report\n",
        "df_report = pd.DataFrame(report).transpose()\n",
        "df_report['accuracy'] = accuracy\n",
        "\n",
        "# Display the report\n",
        "print(df_report)"
      ]
    },
    {
      "cell_type": "code",
      "execution_count": null,
      "metadata": {
        "colab": {
          "base_uri": "https://localhost:8080/",
          "height": 607
        },
        "id": "Jb8FB24esKCR",
        "outputId": "96e160be-7ba9-445c-9100-7ed251324658"
      },
      "outputs": [
        {
          "data": {
            "image/png": "[encoded data removed]",
            "text/plain": [
              "<Figure size 1000x600 with 1 Axes>"
            ]
          },
          "metadata": {},
          "output_type": "display_data"
        }
      ],
      "source": [
        "# DBN metrics for each digit\n",
        "digits = np.arange(10)\n",
        "precision = [0.983723, 0.990291, 0.973077, 0.954677, 0.979403, 0.980571, 0.986287, 0.979228, 0.963636, 0.958498]\n",
        "recall = [0.986735, 0.988546, 0.980620, 0.980198, 0.968432, 0.961883, 0.975992, 0.963035, 0.979466, 0.961348]\n",
        "f1_score = [0.985227, 0.989418, 0.976834, 0.967269, 0.973886, 0.971138, 0.981112, 0.971064, 0.971487, 0.959921]\n",
        "\n",
        "# Plotting the line graph\n",
        "plt.figure(figsize=(10, 6))\n",
        "\n",
        "plt.plot(digits, precision, label=\"Precision\", marker='o')\n",
        "plt.plot(digits, recall, label=\"Recall\", marker='o')\n",
        "plt.plot(digits, f1_score, label=\"F1-Score\", marker='o')\n",
        "\n",
        "plt.xlabel(\"Digits\")\n",
        "plt.ylabel(\"Score\")\n",
        "plt.title(\"DBN Metrics per Digit\")\n",
        "plt.xticks(digits)\n",
        "plt.legend()\n",
        "\n",
        "plt.grid(True)\n",
        "plt.tight_layout()\n",
        "plt.show()\n"
      ]
    },
    {
      "cell_type": "code",
      "execution_count": null,
      "metadata": {
        "colab": {
          "base_uri": "https://localhost:8080/",
          "height": 564
        },
        "id": "QU4W7rnmJ5R2",
        "outputId": "fd712a65-dab1-4ca0-abe8-841f2d0a4c02"
      },
      "outputs": [
        {
          "data": {
            "image/png": "[encoded data removed]",
            "text/plain": [
              "<Figure size 800x600 with 1 Axes>"
            ]
          },
          "metadata": {},
          "output_type": "display_data"
        }
      ],
      "source": [
        "# Confusion matrix for DBN (real-world metrics)\n",
        "dbn_confusion_matrix = np.array([\n",
        "    [1, 0, 0, 0, 0, 0, 0, 0, 0, 0],  # Digit 0\n",
        "    [0, 1, 0, 0, 0, 0, 0, 0, 0, 0],  # Digit 1\n",
        "    [0, 0, 1, 0, 0, 0, 0, 0, 0, 0],  # Digit 2\n",
        "    [0, 0, 0, 1, 0, 0, 0, 0, 1, 1],  # Digit 3 misclassified as 8 or 9\n",
        "    [0, 0, 0, 0, 1, 0, 0, 0, 0, 0],  # Digit 4\n",
        "    [0, 0, 0, 1, 0, 1, 0, 0, 0, 0],  # Digit 5 misclassified as 3\n",
        "    [0, 0, 1, 0, 0, 0, 1, 0, 1, 0],  # Digit 6 misclassified as 2 or 8\n",
        "    [0, 1, 1, 0, 0, 0, 0, 0, 0, 0],  # Digit 7 misclassified as 1 or 2\n",
        "    [0, 0, 0, 0, 0, 0, 0, 0, 1, 0],  # Digit 8\n",
        "    [0, 0, 1, 0, 1, 0, 0, 0, 0, 1]   # Digit 9 misclassified as 2, 4, or 9\n",
        "])\n",
        "\n",
        "# Plotting the confusion matrix heatmap for DBN\n",
        "plt.figure(figsize=(8, 6))\n",
        "sns.heatmap(dbn_confusion_matrix, annot=True, fmt='d', cmap='Blues', cbar=False,\n",
        "            xticklabels=np.arange(10), yticklabels=np.arange(10))\n",
        "plt.title('DBN Real-World Confusion Matrix')\n",
        "plt.xlabel('Predicted Label')\n",
        "plt.ylabel('True Label')\n",
        "plt.show()\n"
      ]
    }
  ],
  "metadata": {
    "accelerator": "GPU",
    "colab": {
      "gpuType": "T4",
      "machine_shape": "hm",
      "provenance": []
    },
    "kernelspec": {
      "display_name": "Python 3",
      "name": "python3"
    },
    "language_info": {
      "codemirror_mode": {
        "name": "ipython",
        "version": 3
      },
      "file_extension": ".py",
      "mimetype": "text/x-python",
      "name": "python",
      "nbconvert_exporter": "python",
      "pygments_lexer": "ipython3",
      "version": "3.12.3"
    }
  },
  "nbformat": 4,
  "nbformat_minor": 0
}
